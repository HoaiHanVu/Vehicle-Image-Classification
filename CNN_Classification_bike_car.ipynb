{
 "cells": [
  {
   "cell_type": "code",
   "execution_count": 1,
   "metadata": {},
   "outputs": [],
   "source": [
    "import tensorflow as tf\n",
    "from tensorflow import keras\n",
    "from tensorflow.keras import Sequential\n",
    "from tensorflow.keras.layers import Conv2D, MaxPooling2D, Flatten, Dense\n",
    "from tensorflow.keras.preprocessing.image import ImageDataGenerator\n",
    "from tensorflow.keras.callbacks import EarlyStopping, ModelCheckpoint\n",
    "from tensorflow.keras.utils import plot_model\n",
    "from tensorflow.keras.models import load_model\n",
    "import numpy as np\n",
    "import pandas as pd\n",
    "from IPython.display import Image\n",
    "import warnings\n",
    "warnings.filterwarnings('ignore')"
   ]
  },
  {
   "cell_type": "markdown",
   "metadata": {},
   "source": [
    "- Mô hình CNN phân loại ảnh xe 2 bánh (bike) và xe 4 bánh (car):"
   ]
  },
  {
   "cell_type": "code",
   "execution_count": 2,
   "metadata": {},
   "outputs": [],
   "source": [
    "classifier = Sequential()\n",
    "\n",
    "classifier.add(Conv2D(filters = 32, kernel_size = 3, input_shape = (128, 128, 3),\n",
    "                      activation = 'relu'))\n",
    "classifier.add(MaxPooling2D(pool_size = (2, 2)))\n",
    "classifier.add(Conv2D(filters = 32, kernel_size = 3, activation = 'relu'))\n",
    "classifier.add(MaxPooling2D(pool_size = (2, 2)))"
   ]
  },
  {
   "cell_type": "code",
   "execution_count": 3,
   "metadata": {},
   "outputs": [],
   "source": [
    "classifier.add(Flatten())\n",
    "\n",
    "classifier.add(Dense(units = 128, activation = 'relu'))\n",
    "classifier.add(Dense(units = 1, activation = 'sigmoid'))"
   ]
  },
  {
   "cell_type": "code",
   "execution_count": 4,
   "metadata": {},
   "outputs": [],
   "source": [
    "classifier.compile(optimizer = 'adam',\n",
    "                   loss = 'binary_crossentropy',\n",
    "                   metrics = ['accuracy'])"
   ]
  },
  {
   "cell_type": "code",
   "execution_count": 5,
   "metadata": {},
   "outputs": [],
   "source": [
    "train_datagen = ImageDataGenerator(rescale = 1./255,\n",
    "                                   shear_range = 0.2,\n",
    "                                   zoom_range = 0.2,\n",
    "                                   horizontal_flip = True)\n",
    "\n",
    "test_datagen = ImageDataGenerator(rescale = 1./255)"
   ]
  },
  {
   "cell_type": "code",
   "execution_count": 6,
   "metadata": {},
   "outputs": [
    {
     "name": "stdout",
     "output_type": "stream",
     "text": [
      "Found 9110 images belonging to 2 classes.\n",
      "Found 2993 images belonging to 2 classes.\n"
     ]
    }
   ],
   "source": [
    "training_set = train_datagen.flow_from_directory('training_set',\n",
    "                                                 target_size = (128, 128),\n",
    "                                                 batch_size = 32,\n",
    "                                                 class_mode = 'binary')\n",
    "\n",
    "test_set = test_datagen.flow_from_directory('test_set',\n",
    "                                            target_size = (128, 128),\n",
    "                                            batch_size = 32,\n",
    "                                            class_mode = 'binary')"
   ]
  },
  {
   "cell_type": "code",
   "execution_count": 7,
   "metadata": {},
   "outputs": [
    {
     "name": "stdout",
     "output_type": "stream",
     "text": [
      "Model: \"sequential\"\n",
      "_________________________________________________________________\n",
      "Layer (type)                 Output Shape              Param #   \n",
      "=================================================================\n",
      "conv2d (Conv2D)              (None, 126, 126, 32)      896       \n",
      "_________________________________________________________________\n",
      "max_pooling2d (MaxPooling2D) (None, 63, 63, 32)        0         \n",
      "_________________________________________________________________\n",
      "conv2d_1 (Conv2D)            (None, 61, 61, 32)        9248      \n",
      "_________________________________________________________________\n",
      "max_pooling2d_1 (MaxPooling2 (None, 30, 30, 32)        0         \n",
      "_________________________________________________________________\n",
      "flatten (Flatten)            (None, 28800)             0         \n",
      "_________________________________________________________________\n",
      "dense (Dense)                (None, 128)               3686528   \n",
      "_________________________________________________________________\n",
      "dense_1 (Dense)              (None, 1)                 129       \n",
      "=================================================================\n",
      "Total params: 3,696,801\n",
      "Trainable params: 3,696,801\n",
      "Non-trainable params: 0\n",
      "_________________________________________________________________\n"
     ]
    }
   ],
   "source": [
    "classifier.summary()"
   ]
  },
  {
   "cell_type": "code",
   "execution_count": 8,
   "metadata": {},
   "outputs": [
    {
     "name": "stdout",
     "output_type": "stream",
     "text": [
      "Epoch 1/100\n",
      "285/285 [==============================] - 122s 425ms/step - loss: 0.3460 - accuracy: 0.8483 - val_loss: 0.2435 - val_accuracy: 0.8974\n",
      "Epoch 2/100\n",
      "285/285 [==============================] - 114s 400ms/step - loss: 0.1770 - accuracy: 0.9317 - val_loss: 0.1366 - val_accuracy: 0.9469\n",
      "Epoch 3/100\n",
      "285/285 [==============================] - 114s 400ms/step - loss: 0.1537 - accuracy: 0.9422 - val_loss: 0.1461 - val_accuracy: 0.9499\n",
      "Epoch 4/100\n",
      "285/285 [==============================] - 115s 403ms/step - loss: 0.1298 - accuracy: 0.9492 - val_loss: 0.1432 - val_accuracy: 0.9442\n",
      "Epoch 5/100\n",
      "285/285 [==============================] - 115s 402ms/step - loss: 0.1188 - accuracy: 0.9537 - val_loss: 0.0987 - val_accuracy: 0.9642\n",
      "Epoch 6/100\n",
      "285/285 [==============================] - 114s 401ms/step - loss: 0.1065 - accuracy: 0.9589 - val_loss: 0.1149 - val_accuracy: 0.9586\n",
      "Epoch 7/100\n",
      "285/285 [==============================] - 114s 401ms/step - loss: 0.0938 - accuracy: 0.9645 - val_loss: 0.0877 - val_accuracy: 0.9669\n",
      "Epoch 8/100\n",
      "285/285 [==============================] - 115s 404ms/step - loss: 0.0737 - accuracy: 0.9718 - val_loss: 0.0773 - val_accuracy: 0.9723\n",
      "Epoch 9/100\n",
      "285/285 [==============================] - 115s 402ms/step - loss: 0.0743 - accuracy: 0.9708 - val_loss: 0.0861 - val_accuracy: 0.9716\n",
      "Epoch 10/100\n",
      "285/285 [==============================] - 118s 412ms/step - loss: 0.0608 - accuracy: 0.9776 - val_loss: 0.0918 - val_accuracy: 0.9656\n",
      "Epoch 11/100\n",
      "285/285 [==============================] - 116s 406ms/step - loss: 0.0573 - accuracy: 0.9773 - val_loss: 0.0871 - val_accuracy: 0.9689\n",
      "Epoch 12/100\n",
      "285/285 [==============================] - 120s 422ms/step - loss: 0.0525 - accuracy: 0.9808 - val_loss: 0.0731 - val_accuracy: 0.9759\n",
      "Epoch 13/100\n",
      "285/285 [==============================] - 120s 420ms/step - loss: 0.0485 - accuracy: 0.9810 - val_loss: 0.0619 - val_accuracy: 0.9779\n",
      "Epoch 14/100\n",
      "285/285 [==============================] - 120s 422ms/step - loss: 0.0403 - accuracy: 0.9852 - val_loss: 0.0736 - val_accuracy: 0.9773\n",
      "Epoch 15/100\n",
      "285/285 [==============================] - 122s 428ms/step - loss: 0.0368 - accuracy: 0.9870 - val_loss: 0.0753 - val_accuracy: 0.9776\n",
      "Epoch 16/100\n",
      "285/285 [==============================] - 121s 424ms/step - loss: 0.0295 - accuracy: 0.9896 - val_loss: 0.1150 - val_accuracy: 0.9673\n",
      "Epoch 17/100\n",
      "285/285 [==============================] - 120s 420ms/step - loss: 0.0247 - accuracy: 0.9924 - val_loss: 0.0770 - val_accuracy: 0.9766\n",
      "Epoch 18/100\n",
      "285/285 [==============================] - 120s 420ms/step - loss: 0.0216 - accuracy: 0.9919 - val_loss: 0.0946 - val_accuracy: 0.9723\n",
      "Epoch 19/100\n",
      "285/285 [==============================] - 120s 422ms/step - loss: 0.0270 - accuracy: 0.9906 - val_loss: 0.0745 - val_accuracy: 0.9766\n",
      "Epoch 20/100\n",
      "285/285 [==============================] - 120s 420ms/step - loss: 0.0251 - accuracy: 0.9908 - val_loss: 0.1762 - val_accuracy: 0.9552\n",
      "Epoch 21/100\n",
      "285/285 [==============================] - 121s 425ms/step - loss: 0.0229 - accuracy: 0.9921 - val_loss: 0.0749 - val_accuracy: 0.9806\n",
      "Epoch 22/100\n",
      "285/285 [==============================] - 121s 423ms/step - loss: 0.0250 - accuracy: 0.9909 - val_loss: 0.1231 - val_accuracy: 0.9706\n",
      "Epoch 23/100\n",
      "285/285 [==============================] - 121s 424ms/step - loss: 0.0224 - accuracy: 0.9922 - val_loss: 0.0629 - val_accuracy: 0.9813\n",
      "CNN training took 45.31 minutes.\n"
     ]
    }
   ],
   "source": [
    "import time\n",
    "callbacks = [EarlyStopping(monitor = 'val_loss', patience = 10, min_delta = 0.001),\n",
    "             ModelCheckpoint('model_checkpoint_cnn21.h5')]\n",
    "\n",
    "t1 = time.time()\n",
    "history = classifier.fit(training_set,\n",
    "                         validation_data = test_set,\n",
    "                         epochs = 100,\n",
    "                         callbacks = callbacks)\n",
    "t2 = time.time()\n",
    "print('CNN training took {:.2f} minutes.'.format((t2 - t1) / 60))"
   ]
  },
  {
   "cell_type": "code",
   "execution_count": 9,
   "metadata": {},
   "outputs": [
    {
     "name": "stdout",
     "output_type": "stream",
     "text": [
      "Save !!!\n"
     ]
    }
   ],
   "source": [
    "classifier.save('CNN_bike_car_model.h5')\n",
    "print('Save !!!')"
   ]
  },
  {
   "cell_type": "code",
   "execution_count": 10,
   "metadata": {},
   "outputs": [
    {
     "data": {
      "text/html": [
       "<div>\n",
       "<style scoped>\n",
       "    .dataframe tbody tr th:only-of-type {\n",
       "        vertical-align: middle;\n",
       "    }\n",
       "\n",
       "    .dataframe tbody tr th {\n",
       "        vertical-align: top;\n",
       "    }\n",
       "\n",
       "    .dataframe thead th {\n",
       "        text-align: right;\n",
       "    }\n",
       "</style>\n",
       "<table border=\"1\" class=\"dataframe\">\n",
       "  <thead>\n",
       "    <tr style=\"text-align: right;\">\n",
       "      <th></th>\n",
       "      <th>loss</th>\n",
       "      <th>accuracy</th>\n",
       "      <th>val_loss</th>\n",
       "      <th>val_accuracy</th>\n",
       "    </tr>\n",
       "  </thead>\n",
       "  <tbody>\n",
       "    <tr>\n",
       "      <th>18</th>\n",
       "      <td>0.027038</td>\n",
       "      <td>0.990560</td>\n",
       "      <td>0.074500</td>\n",
       "      <td>0.976612</td>\n",
       "    </tr>\n",
       "    <tr>\n",
       "      <th>19</th>\n",
       "      <td>0.025057</td>\n",
       "      <td>0.990779</td>\n",
       "      <td>0.176191</td>\n",
       "      <td>0.955229</td>\n",
       "    </tr>\n",
       "    <tr>\n",
       "      <th>20</th>\n",
       "      <td>0.022877</td>\n",
       "      <td>0.992097</td>\n",
       "      <td>0.074859</td>\n",
       "      <td>0.980621</td>\n",
       "    </tr>\n",
       "    <tr>\n",
       "      <th>21</th>\n",
       "      <td>0.025015</td>\n",
       "      <td>0.990889</td>\n",
       "      <td>0.123111</td>\n",
       "      <td>0.970598</td>\n",
       "    </tr>\n",
       "    <tr>\n",
       "      <th>22</th>\n",
       "      <td>0.022446</td>\n",
       "      <td>0.992206</td>\n",
       "      <td>0.062931</td>\n",
       "      <td>0.981290</td>\n",
       "    </tr>\n",
       "  </tbody>\n",
       "</table>\n",
       "</div>"
      ],
      "text/plain": [
       "        loss  accuracy  val_loss  val_accuracy\n",
       "18  0.027038  0.990560  0.074500      0.976612\n",
       "19  0.025057  0.990779  0.176191      0.955229\n",
       "20  0.022877  0.992097  0.074859      0.980621\n",
       "21  0.025015  0.990889  0.123111      0.970598\n",
       "22  0.022446  0.992206  0.062931      0.981290"
      ]
     },
     "execution_count": 10,
     "metadata": {},
     "output_type": "execute_result"
    }
   ],
   "source": [
    "df_clf = pd.DataFrame(history.history)\n",
    "df_clf.tail()"
   ]
  },
  {
   "cell_type": "code",
   "execution_count": 11,
   "metadata": {},
   "outputs": [
    {
     "data": {
      "image/png": "[encoded data removed]",
      "text/plain": [
       "<Figure size 720x432 with 1 Axes>"
      ]
     },
     "metadata": {
      "needs_background": "light"
     },
     "output_type": "display_data"
    }
   ],
   "source": [
    "import matplotlib.pyplot as plt\n",
    "df_clf.loc[:, ['loss', 'val_loss']].plot(figsize = (10, 6))\n",
    "plt.grid(True);"
   ]
  },
  {
   "cell_type": "code",
   "execution_count": 12,
   "metadata": {},
   "outputs": [
    {
     "data": {
      "image/png": "[encoded data removed]",
      "text/plain": [
       "<Figure size 720x432 with 1 Axes>"
      ]
     },
     "metadata": {
      "needs_background": "light"
     },
     "output_type": "display_data"
    }
   ],
   "source": [
    "df_clf.loc[:, ['accuracy', 'val_accuracy']].plot(figsize = (10, 6))\n",
    "plt.grid(True);"
   ]
  },
  {
   "cell_type": "code",
   "execution_count": null,
   "metadata": {},
   "outputs": [],
   "source": []
  },
  {
   "cell_type": "code",
   "execution_count": null,
   "metadata": {},
   "outputs": [],
   "source": []
  },
  {
   "cell_type": "code",
   "execution_count": null,
   "metadata": {},
   "outputs": [],
   "source": []
  },
  {
   "cell_type": "code",
   "execution_count": null,
   "metadata": {},
   "outputs": [],
   "source": []
  }
 ],
 "metadata": {
  "kernelspec": {
   "display_name": "Python 3",
   "language": "python",
   "name": "python3"
  },
  "language_info": {
   "codemirror_mode": {
    "name": "ipython",
    "version": 3
   },
   "file_extension": ".py",
   "mimetype": "text/x-python",
   "name": "python",
   "nbconvert_exporter": "python",
   "pygments_lexer": "ipython3",
   "version": "3.8.10"
  }
 },
 "nbformat": 4,
 "nbformat_minor": 4
}
